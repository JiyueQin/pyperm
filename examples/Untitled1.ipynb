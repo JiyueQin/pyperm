{
 "cells": [
  {
   "cell_type": "code",
   "execution_count": 2,
   "metadata": {},
   "outputs": [
    {
     "name": "stdout",
     "output_type": "stream",
     "text": [
      "Requirement already satisfied: numpy in c:\\users\\12sda\\appdata\\local\\programs\\python\\python38-32\\lib\\site-packages (1.20.2)\n",
      "Note: you may need to restart the kernel to use updated packages.\n"
     ]
    },
    {
     "name": "stderr",
     "output_type": "stream",
     "text": [
      "WARNING: You are using pip version 21.3.1; however, version 23.2 is available.\n",
      "You should consider upgrading via the 'c:\\users\\12sda\\appdata\\local\\programs\\python\\python38-32\\python.exe -m pip install --upgrade pip' command.\n"
     ]
    },
    {
     "name": "stdout",
     "output_type": "stream",
     "text": [
      "Requirement already satisfied: requests in c:\\users\\12sda\\appdata\\local\\programs\\python\\python38-32\\lib\\site-packages (2.23.0)\n",
      "Requirement already satisfied: urllib3!=1.25.0,!=1.25.1,<1.26,>=1.21.1 in c:\\users\\12sda\\appdata\\local\\programs\\python\\python38-32\\lib\\site-packages (from requests) (1.25.9)\n",
      "Requirement already satisfied: certifi>=2017.4.17 in c:\\users\\12sda\\appdata\\local\\programs\\python\\python38-32\\lib\\site-packages (from requests) (2020.4.5.1)\n",
      "Requirement already satisfied: chardet<4,>=3.0.2 in c:\\users\\12sda\\appdata\\local\\programs\\python\\python38-32\\lib\\site-packages (from requests) (3.0.4)\n",
      "Requirement already satisfied: idna<3,>=2.5 in c:\\users\\12sda\\appdata\\local\\programs\\python\\python38-32\\lib\\site-packages (from requests) (2.9)\n",
      "Note: you may need to restart the kernel to use updated packages.\n"
     ]
    },
    {
     "name": "stderr",
     "output_type": "stream",
     "text": [
      "WARNING: You are using pip version 21.3.1; however, version 23.2 is available.\n",
      "You should consider upgrading via the 'c:\\users\\12sda\\appdata\\local\\programs\\python\\python38-32\\python.exe -m pip install --upgrade pip' command.\n"
     ]
    },
    {
     "name": "stdout",
     "output_type": "stream",
     "text": [
      "Requirement already satisfied: crtoolbox in c:\\users\\12sda\\appdata\\local\\programs\\python\\python38-32\\lib\\site-packages (0.1.6)\n",
      "Requirement already satisfied: matplotlib in c:\\users\\12sda\\appdata\\local\\programs\\python\\python38-32\\lib\\site-packages (from crtoolbox) (3.2.1)\n",
      "Requirement already satisfied: nilearn in c:\\users\\12sda\\appdata\\roaming\\python\\python38\\site-packages (from crtoolbox) (0.7.0)\n",
      "Requirement already satisfied: nibabel in c:\\users\\12sda\\appdata\\roaming\\python\\python38\\site-packages (from crtoolbox) (3.2.1)\n",
      "Requirement already satisfied: numpy in c:\\users\\12sda\\appdata\\local\\programs\\python\\python38-32\\lib\\site-packages (from crtoolbox) (1.20.2)\n",
      "Requirement already satisfied: nbformat>=4.2.0 in c:\\users\\12sda\\appdata\\local\\programs\\python\\python38-32\\lib\\site-packages (from crtoolbox) (5.0.6)\n",
      "Requirement already satisfied: plotly in c:\\users\\12sda\\appdata\\local\\programs\\python\\python38-32\\lib\\site-packages (from crtoolbox) (5.15.0)\n",
      "Requirement already satisfied: pyyaml in c:\\users\\12sda\\appdata\\local\\programs\\python\\python38-32\\lib\\site-packages (from crtoolbox) (6.0)\n",
      "Requirement already satisfied: pandas in c:\\users\\12sda\\appdata\\local\\programs\\python\\python38-32\\lib\\site-packages (from crtoolbox) (1.0.4)\n",
      "Requirement already satisfied: ipython-genutils in c:\\users\\12sda\\appdata\\local\\programs\\python\\python38-32\\lib\\site-packages (from nbformat>=4.2.0->crtoolbox) (0.2.0)\n",
      "Requirement already satisfied: jupyter-core in c:\\users\\12sda\\appdata\\local\\programs\\python\\python38-32\\lib\\site-packages (from nbformat>=4.2.0->crtoolbox) (4.6.3)\n",
      "Requirement already satisfied: jsonschema!=2.5.0,>=2.4 in c:\\users\\12sda\\appdata\\local\\programs\\python\\python38-32\\lib\\site-packages (from nbformat>=4.2.0->crtoolbox) (3.2.0)\n",
      "Requirement already satisfied: traitlets>=4.1 in c:\\users\\12sda\\appdata\\local\\programs\\python\\python38-32\\lib\\site-packages (from nbformat>=4.2.0->crtoolbox) (4.3.3)\n",
      "Requirement already satisfied: python-dateutil>=2.1 in c:\\users\\12sda\\appdata\\local\\programs\\python\\python38-32\\lib\\site-packages (from matplotlib->crtoolbox) (2.8.1)\n",
      "Requirement already satisfied: pyparsing!=2.0.4,!=2.1.2,!=2.1.6,>=2.0.1 in c:\\users\\12sda\\appdata\\local\\programs\\python\\python38-32\\lib\\site-packages (from matplotlib->crtoolbox) (2.4.7)\n",
      "Requirement already satisfied: cycler>=0.10 in c:\\users\\12sda\\appdata\\local\\programs\\python\\python38-32\\lib\\site-packages (from matplotlib->crtoolbox) (0.10.0)\n",
      "Requirement already satisfied: kiwisolver>=1.0.1 in c:\\users\\12sda\\appdata\\local\\programs\\python\\python38-32\\lib\\site-packages (from matplotlib->crtoolbox) (1.2.0)\n",
      "Requirement already satisfied: packaging>=14.3 in c:\\users\\12sda\\appdata\\local\\programs\\python\\python38-32\\lib\\site-packages (from nibabel->crtoolbox) (21.3)\n",
      "Requirement already satisfied: requests>=2 in c:\\users\\12sda\\appdata\\local\\programs\\python\\python38-32\\lib\\site-packages (from nilearn->crtoolbox) (2.23.0)\n",
      "Requirement already satisfied: scipy>=0.19 in c:\\users\\12sda\\appdata\\local\\programs\\python\\python38-32\\lib\\site-packages (from nilearn->crtoolbox) (1.4.1)\n",
      "Requirement already satisfied: scikit-learn>=0.19 in c:\\users\\12sda\\appdata\\roaming\\python\\python38\\site-packages (from nilearn->crtoolbox) (0.24.0)\n",
      "Requirement already satisfied: joblib>=0.12 in c:\\users\\12sda\\appdata\\local\\programs\\python\\python38-32\\lib\\site-packages (from nilearn->crtoolbox) (1.3.1)\n",
      "Requirement already satisfied: pytz>=2017.2 in c:\\users\\12sda\\appdata\\local\\programs\\python\\python38-32\\lib\\site-packages (from pandas->crtoolbox) (2020.1)\n",
      "Requirement already satisfied: tenacity>=6.2.0 in c:\\users\\12sda\\appdata\\local\\programs\\python\\python38-32\\lib\\site-packages (from plotly->crtoolbox) (8.2.2)\n",
      "Requirement already satisfied: six in c:\\users\\12sda\\appdata\\local\\programs\\python\\python38-32\\lib\\site-packages (from cycler>=0.10->matplotlib->crtoolbox) (1.15.0)\n",
      "Requirement already satisfied: attrs>=17.4.0 in c:\\users\\12sda\\appdata\\local\\programs\\python\\python38-32\\lib\\site-packages (from jsonschema!=2.5.0,>=2.4->nbformat>=4.2.0->crtoolbox) (19.3.0)\n",
      "Requirement already satisfied: pyrsistent>=0.14.0 in c:\\users\\12sda\\appdata\\local\\programs\\python\\python38-32\\lib\\site-packages (from jsonschema!=2.5.0,>=2.4->nbformat>=4.2.0->crtoolbox) (0.16.0)\n",
      "Requirement already satisfied: setuptools in c:\\users\\12sda\\appdata\\local\\programs\\python\\python38-32\\lib\\site-packages (from jsonschema!=2.5.0,>=2.4->nbformat>=4.2.0->crtoolbox) (60.2.0)\n",
      "Requirement already satisfied: chardet<4,>=3.0.2 in c:\\users\\12sda\\appdata\\local\\programs\\python\\python38-32\\lib\\site-packages (from requests>=2->nilearn->crtoolbox) (3.0.4)\n",
      "Requirement already satisfied: certifi>=2017.4.17 in c:\\users\\12sda\\appdata\\local\\programs\\python\\python38-32\\lib\\site-packages (from requests>=2->nilearn->crtoolbox) (2020.4.5.1)\n",
      "Requirement already satisfied: urllib3!=1.25.0,!=1.25.1,<1.26,>=1.21.1 in c:\\users\\12sda\\appdata\\local\\programs\\python\\python38-32\\lib\\site-packages (from requests>=2->nilearn->crtoolbox) (1.25.9)\n",
      "Requirement already satisfied: idna<3,>=2.5 in c:\\users\\12sda\\appdata\\local\\programs\\python\\python38-32\\lib\\site-packages (from requests>=2->nilearn->crtoolbox) (2.9)\n",
      "Requirement already satisfied: threadpoolctl>=2.0.0 in c:\\users\\12sda\\appdata\\roaming\\python\\python38\\site-packages (from scikit-learn>=0.19->nilearn->crtoolbox) (2.1.0)\n",
      "Requirement already satisfied: decorator in c:\\users\\12sda\\appdata\\local\\programs\\python\\python38-32\\lib\\site-packages (from traitlets>=4.1->nbformat>=4.2.0->crtoolbox) (4.4.2)\n",
      "Requirement already satisfied: pywin32>=1.0 in c:\\users\\12sda\\appdata\\local\\programs\\python\\python38-32\\lib\\site-packages (from jupyter-core->nbformat>=4.2.0->crtoolbox) (227)\n",
      "Note: you may need to restart the kernel to use updated packages.\n"
     ]
    },
    {
     "name": "stderr",
     "output_type": "stream",
     "text": [
      "WARNING: You are using pip version 21.3.1; however, version 23.2 is available.\n",
      "You should consider upgrading via the 'c:\\users\\12sda\\appdata\\local\\programs\\python\\python38-32\\python.exe -m pip install --upgrade pip' command.\n"
     ]
    }
   ],
   "source": [
    "%pip install numpy\n",
    "%pip install requests\n",
    "%pip install crtoolbox"
   ]
  },
  {
   "cell_type": "code",
   "execution_count": 3,
   "metadata": {},
   "outputs": [
    {
     "ename": "ModuleNotFoundError",
     "evalue": "No module named 'data'",
     "output_type": "error",
     "traceback": [
      "\u001b[1;31m---------------------------------------------------------------------------\u001b[0m",
      "\u001b[1;31mModuleNotFoundError\u001b[0m                       Traceback (most recent call last)",
      "\u001b[1;32m<ipython-input-3-712566143796>\u001b[0m in \u001b[0;36m<module>\u001b[1;34m\u001b[0m\n\u001b[0;32m     22\u001b[0m \u001b[1;33m\u001b[0m\u001b[0m\n\u001b[0;32m     23\u001b[0m \u001b[1;31m# Import data download function\u001b[0m\u001b[1;33m\u001b[0m\u001b[1;33m\u001b[0m\u001b[1;33m\u001b[0m\u001b[0m\n\u001b[1;32m---> 24\u001b[1;33m \u001b[1;32mfrom\u001b[0m \u001b[0mdata\u001b[0m\u001b[1;33m.\u001b[0m\u001b[0mdownload\u001b[0m \u001b[1;32mimport\u001b[0m \u001b[0mdownload_and_extract_zip_from_dropbox\u001b[0m\u001b[1;33m\u001b[0m\u001b[1;33m\u001b[0m\u001b[0m\n\u001b[0m",
      "\u001b[1;31mModuleNotFoundError\u001b[0m: No module named 'data'"
     ]
    }
   ],
   "source": [
    "# Basic imports\n",
    "import os\n",
    "import numpy as np\n",
    "from matplotlib import pyplot as plt\n",
    "import pandas as pd\n",
    "\n",
    "# Imports from Confidence Regions Toolbox\n",
    "from crtoolbox.generate import generate_CRs\n",
    "\n",
    "# Import supporting functions\n",
    "from crtoolbox.lib.set_theory import *\n",
    "from crtoolbox.lib.boundary import *\n",
    "from crtoolbox.lib.regression import *\n",
    "from crtoolbox.lib.cohens import *\n",
    "\n",
    "# Import data generation\n",
    "from crtoolbox.tests.generate_2d_data import *\n",
    "from crtoolbox.tests.generate_ni_data import *\n",
    "\n",
    "# Import plotting functions\n",
    "from crtoolbox.lib.display import display_crs, display_volume\n",
    "\n",
    "# Import data download function\n",
    "from data.download import download_and_extract_zip_from_dropbox"
   ]
  }
 ],
 "metadata": {
  "kernelspec": {
   "display_name": "Python 3",
   "language": "python",
   "name": "python3"
  },
  "language_info": {
   "codemirror_mode": {
    "name": "ipython",
    "version": 3
   },
   "file_extension": ".py",
   "mimetype": "text/x-python",
   "name": "python",
   "nbconvert_exporter": "python",
   "pygments_lexer": "ipython3",
   "version": "3.8.3"
  }
 },
 "nbformat": 4,
 "nbformat_minor": 4
}
